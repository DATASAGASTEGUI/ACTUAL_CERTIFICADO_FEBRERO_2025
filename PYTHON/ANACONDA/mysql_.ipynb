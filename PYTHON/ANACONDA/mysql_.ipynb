{
 "cells": [
  {
   "cell_type": "markdown",
   "id": "1bb7c1a2-3f60-4e1e-b1a9-051c859a861b",
   "metadata": {},
   "source": [
    "<center>\n",
    "   <span style=\"color:red; font-size:30px\">\n",
    "      MYSQL\n",
    "   </span>\n",
    "</center>"
   ]
  },
  {
   "cell_type": "markdown",
   "id": "2f3bf99c-8bf1-4d8e-8c06-2fce71c3d0a0",
   "metadata": {},
   "source": [
    "<span style=\"color:blue; font-size:15px\">\n",
    "   EJEMPLO 01: \n",
    "   <span style=\"color:purple; font-size:15px\">\n",
    "      CONEXION MYSQL\n",
    "   </span>\n",
    "</span>"
   ]
  },
  {
   "cell_type": "code",
   "execution_count": null,
   "id": "d5ccd501-568a-4501-9165-f184493b9d90",
   "metadata": {},
   "outputs": [],
   "source": [
    "import os, mysql.connector\n",
    "\n",
    "conexion = None\n",
    "try:\n",
    "   conexion = mysql.connector.connect(\n",
    "        host=\"localhost\",\n",
    "        port=\"3307\",\n",
    "        user=\"root\",\n",
    "        password=\"12345678\",\n",
    "        database=\"matricula\")\n",
    "   print('OK: CONEXION')\n",
    "   query = \"SELECT * FROM ALUMNO\"\n",
    "   cursor = conexion.cursor()\n",
    "   cursor.execute(query)\n",
    "   lista_tupla = cursor.fetchall()\n",
    "   print(lista_tupla)\n",
    "\n",
    "   for t in lista_tupla:\n",
    "       t[0] = \"x\"\n",
    "       print(t[0])\n",
    "\n",
    "  \n",
    "\n",
    "\n",
    "except Exception as e:\n",
    "   print(\"ERROR: CONEXION \", e)\n",
    "\n"
   ]
  },
  {
   "cell_type": "code",
   "execution_count": null,
   "id": "72cd03d5-d308-4bbd-950c-54c4f5a272ec",
   "metadata": {},
   "outputs": [],
   "source": [
    "import os, mysql.connector\n",
    "\n",
    "conexion = None\n",
    "try:\n",
    "   conexion = mysql.connector.connect(\n",
    "        host=\"localhost\",\n",
    "        port=\"3307\",\n",
    "        user=\"root\",\n",
    "        password=\"12345678\",\n",
    "        database=\"matricula\")\n",
    "   print('OK: CONEXION')\n",
    "   query = \"CREATE TABLE TPrueba(id int, nombre varchar(30))ENGINE=InnoDB DEFAULT CHARSET=utf8mb4\"\n",
    "   cursor = conexion.cursor()\n",
    "   cursor.execute(query)\n",
    "   conexion.commit()\n",
    "   print(\"OK: CREAR TABLA\")\n",
    "except Exception as e:\n",
    "   print(\"ERROR: CONEXION \", e)\n",
    "\n"
   ]
  },
  {
   "cell_type": "code",
   "execution_count": null,
   "id": "60b9779d-f564-4fc8-8e60-138d4cec0884",
   "metadata": {},
   "outputs": [],
   "source": [
    "tupla_listas = ([1,2,3],[])\n",
    "\n",
    "lista = tupla_listas[1]\n",
    "lista.append(5)\n",
    "lista.append([2,3,4])\n",
    "\n",
    "print(tupla_listas)\n",
    "\n"
   ]
  },
  {
   "cell_type": "code",
   "execution_count": null,
   "id": "37bae142-8caa-445f-972a-331fe27847b8",
   "metadata": {},
   "outputs": [],
   "source": [
    "import os, mysql.connector\n",
    "\n",
    "conexion = None\n",
    "try:\n",
    "   conexion = mysql.connector.connect(\n",
    "        host=\"localhost\",\n",
    "        port=\"3307\",\n",
    "        user=\"root\",\n",
    "        password=\"12345678\",\n",
    "        database=\"matricula\")\n",
    "   print('OK: CONEXION')\n",
    "   query = \"INSERT INTO Tprueba(id,nombre) VALUES(%s,%s)\"\n",
    "   cursor = conexion.cursor()\n",
    "   tupla = (2,'Vanessa')\n",
    "   cursor.execute(query,tupla)\n",
    "   conexion.commit()\n",
    "   print(\"OK: INSERT\")\n",
    "except Exception as e:\n",
    "   print(\"ERROR: CONEXION \", e)"
   ]
  },
  {
   "cell_type": "code",
   "execution_count": 4,
   "id": "ac8c7d9b-7bcd-4acb-b184-5db5f765cdfe",
   "metadata": {},
   "outputs": [
    {
     "name": "stdout",
     "output_type": "stream",
     "text": [
      "OK: CONEXION\n",
      "No se actualizó ninguna fila.\n"
     ]
    }
   ],
   "source": [
    "import os, mysql.connector\n",
    "\n",
    "conexion = None\n",
    "try:\n",
    "   conexion = mysql.connector.connect(\n",
    "        host=\"localhost\",\n",
    "        port=\"3307\",\n",
    "        user=\"root\",\n",
    "        password=\"12345678\",\n",
    "        database=\"matricula\")\n",
    "   print('OK: CONEXION')\n",
    "    \n",
    "   query = \"UPDATE TPrueba SET nombre = %s WHERE id = %s\"\n",
    "   tupla = (\"Jorge\",1)\n",
    "   cursor = conexion.cursor()\n",
    "   cursor.execute(query, tupla)\n",
    "\n",
    "   # Verificar si se actualizó alguna fila\n",
    "   if cursor.rowcount > 0:\n",
    "        print(\"OK: UPDATE\")\n",
    "   else:\n",
    "        print(\"No se actualizó ninguna fila.\")   \n",
    "   conexion.commit()\n",
    "\n",
    "except Exception as e:\n",
    "   print(\"ERROR: CONEXION \", e)\n"
   ]
  },
  {
   "cell_type": "code",
   "execution_count": 6,
   "id": "09ab15d3-9c58-4ed8-b1db-9218faa89698",
   "metadata": {},
   "outputs": [
    {
     "name": "stdout",
     "output_type": "stream",
     "text": [
      "OK: CONEXION\n",
      "OK: DELETE\n"
     ]
    }
   ],
   "source": [
    "import os, mysql.connector\n",
    "\n",
    "conexion = None\n",
    "try:\n",
    "   conexion = mysql.connector.connect(\n",
    "        host=\"localhost\",\n",
    "        port=\"3307\",\n",
    "        user=\"root\",\n",
    "        password=\"12345678\",\n",
    "        database=\"matricula\")\n",
    "   print('OK: CONEXION')\n",
    "    \n",
    "   query = \"DELETE FROM TPrueba WHERE nombre = %s\"\n",
    "   tupla = (\"Jorge\",)\n",
    "\n",
    "   cursor = conexion.cursor()\n",
    "   cursor.execute(query, tupla)\n",
    "   conexion.commit()\n",
    "\n",
    "   # Verificar si se eliminó alguna fila\n",
    "   if cursor.rowcount > 0:\n",
    "        print(\"OK: DELETE\")\n",
    "   else:\n",
    "        print(\"No se encontró el registro para eliminar.\")\n",
    "\n",
    "except Exception as e:\n",
    "   print(\"ERROR: CONEXION \", e)"
   ]
  },
  {
   "cell_type": "code",
   "execution_count": null,
   "id": "4ca97d10-3678-44ff-a40c-1327cb14ae2e",
   "metadata": {},
   "outputs": [],
   "source": []
  }
 ],
 "metadata": {
  "kernelspec": {
   "display_name": "Python 3 (ipykernel)",
   "language": "python",
   "name": "python3"
  },
  "language_info": {
   "codemirror_mode": {
    "name": "ipython",
    "version": 3
   },
   "file_extension": ".py",
   "mimetype": "text/x-python",
   "name": "python",
   "nbconvert_exporter": "python",
   "pygments_lexer": "ipython3",
   "version": "3.11.5"
  }
 },
 "nbformat": 4,
 "nbformat_minor": 5
}
