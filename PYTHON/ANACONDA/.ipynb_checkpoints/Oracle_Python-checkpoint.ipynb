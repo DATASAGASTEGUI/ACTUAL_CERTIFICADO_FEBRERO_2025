{
 "cells": [
  {
   "cell_type": "markdown",
   "id": "093413f2",
   "metadata": {},
   "source": [
    "<center>\n",
    "   <span style=\"color:red; font-size:30px\">\n",
    "      ORACLE\n",
    "   </span>\n",
    "</center>"
   ]
  },
  {
   "cell_type": "markdown",
   "id": "4c426ff1",
   "metadata": {},
   "source": [
    "<span style=\"color:blue; font-size:15px\">\n",
    "   BIBLIOTECA: \n",
    "   <span style=\"color:purple; font-size:15px\">\n",
    "    ORACLE-PYTHON\n",
    "   </span>\n",
    "</span>"
   ]
  },
  {
   "cell_type": "code",
   "execution_count": 1,
   "id": "fd53feee",
   "metadata": {},
   "outputs": [
    {
     "name": "stdout",
     "output_type": "stream",
     "text": [
      "Requirement already satisfied: oracledb in c:\\users\\ryzen\\anaconda3\\lib\\site-packages (3.1.1)\n",
      "Requirement already satisfied: cryptography>=3.2.1 in c:\\users\\ryzen\\anaconda3\\lib\\site-packages (from oracledb) (41.0.3)\n",
      "Requirement already satisfied: cffi>=1.12 in c:\\users\\ryzen\\anaconda3\\lib\\site-packages (from cryptography>=3.2.1->oracledb) (1.15.1)\n",
      "Requirement already satisfied: pycparser in c:\\users\\ryzen\\anaconda3\\lib\\site-packages (from cffi>=1.12->cryptography>=3.2.1->oracledb) (2.21)\n"
     ]
    }
   ],
   "source": [
    "!pip install oracledb"
   ]
  },
  {
   "cell_type": "markdown",
   "id": "a0256681",
   "metadata": {},
   "source": [
    "<span style=\"color:blue; font-size:15px\">\n",
    "   EJEMPLO 01: \n",
    "   <span style=\"color:purple; font-size:15px\">\n",
    "      CONEXION ORACLE-PYTHON\n",
    "   </span>\n",
    "</span>"
   ]
  },
  {
   "cell_type": "code",
   "execution_count": 9,
   "id": "e3683df6",
   "metadata": {},
   "outputs": [
    {
     "name": "stdout",
     "output_type": "stream",
     "text": [
      "Ok: Conexion\n"
     ]
    }
   ],
   "source": [
    "import oracledb\n",
    "\n",
    "def ejemplo1():\n",
    "    conexion = None\n",
    "    try:\n",
    "        conexion = oracledb.connect(\n",
    "            user = \"bd16052025\",\n",
    "            password = \"12345678\",\n",
    "            dsn = \"localhost:1521/xepdb1\"\n",
    "        )\n",
    "    except Exception as e:\n",
    "        print(\"Error: Conexion \", e)\n",
    "    \n",
    "    if conexion != None:\n",
    "       print(\"Ok: Conexion\")\n",
    "    else:\n",
    "       print(\"Error: Conexion\") \n",
    "\n",
    "def main():\n",
    "    ejemplo1()\n",
    "\n",
    "if __name__ == \"__main__\":\n",
    "    main()"
   ]
  },
  {
   "cell_type": "markdown",
   "id": "4f70e53f",
   "metadata": {},
   "source": [
    "<span style=\"color:blue; font-size:15px\">\n",
    "   EJEMPLO 02: \n",
    "   <span style=\"color:purple; font-size:15px\">\n",
    "      SELECT\n",
    "   </span>\n",
    "</span>"
   ]
  },
  {
   "cell_type": "code",
   "execution_count": 13,
   "id": "4fda07ce",
   "metadata": {},
   "outputs": [
    {
     "name": "stdout",
     "output_type": "stream",
     "text": [
      "Requirement already satisfied: tabulate in c:\\users\\ryzen\\anaconda3\\lib\\site-packages (0.8.10)\n"
     ]
    }
   ],
   "source": [
    "!pip install tabulate"
   ]
  },
  {
   "cell_type": "code",
   "execution_count": 15,
   "id": "eeab5f85",
   "metadata": {},
   "outputs": [
    {
     "name": "stdout",
     "output_type": "stream",
     "text": [
      "Ok: Conexion\n",
      "[(1, 'Juan Pérez', 30, 1.75, 'S', datetime.datetime(1994, 5, 16, 0, 0)), (2, 'María Gómez', 28, 1.65, 'N', datetime.datetime(1996, 3, 10, 0, 0)), (3, 'Carlos Ruiz', 35, 1.8, 'S', datetime.datetime(1989, 7, 21, 0, 0)), (4, 'Lucía Fernández', 22, 1.6, 'N', datetime.datetime(2002, 1, 30, 0, 0)), (5, 'Pedro Sánchez', 40, 1.78, 'S', datetime.datetime(1984, 12, 5, 0, 0)), (6, 'Ana Torres', 27, 1.68, 'N', datetime.datetime(1997, 8, 15, 0, 0)), (7, 'Luis Martínez', 31, 1.72, 'S', datetime.datetime(1993, 11, 9, 0, 0)), (8, 'Isabel Díaz', 45, 1.63, 'S', datetime.datetime(1979, 6, 1, 0, 0)), (9, 'Diego Romero', 19, 1.82, 'N', datetime.datetime(2005, 9, 14, 0, 0)), (10, 'Claudia Navarro', 33, 1.7, 'S', datetime.datetime(1991, 2, 18, 0, 0)), (11, 'José Herrera', 29, 1.76, 'N', datetime.datetime(1995, 4, 22, 0, 0)), (12, 'Valeria Castro', 24, 1.61, 'N', datetime.datetime(2000, 7, 30, 0, 0)), (13, 'Andrés Molina', 36, 1.85, 'S', datetime.datetime(1988, 3, 3, 0, 0)), (14, 'Patricia León', 38, 1.66, 'S', datetime.datetime(1986, 12, 28, 0, 0)), (15, 'Hugo Paredes', 26, 1.79, 'N', datetime.datetime(1998, 5, 11, 0, 0)), (16, 'Sofía Ortega', 23, 1.58, 'N', datetime.datetime(2001, 10, 5, 0, 0)), (17, 'Manuel Cordero', 41, 1.74, 'S', datetime.datetime(1983, 9, 17, 0, 0)), (18, 'Gabriela Fuentes', 32, 1.67, 'S', datetime.datetime(1992, 6, 9, 0, 0)), (19, 'Ricardo Peña', 21, 1.81, 'N', datetime.datetime(2003, 8, 22, 0, 0)), (20, 'Marta Salas', 34, 1.62, 'S', datetime.datetime(1990, 4, 12, 0, 0)), (21, 'Fernando Ríos', 39, 1.77, 'S', datetime.datetime(1985, 2, 2, 0, 0)), (22, 'Camila Durán', 25, 1.64, 'N', datetime.datetime(1999, 1, 19, 0, 0)), (23, 'Tomás Aguilar', 37, 1.83, 'S', datetime.datetime(1987, 10, 13, 0, 0)), (24, 'Elena Ramos', 20, 1.59, 'N', datetime.datetime(2004, 12, 7, 0, 0)), (25, 'Iván Varela', 27, 1.71, 'N', datetime.datetime(1997, 11, 26, 0, 0)), (26, 'Natalia Jiménez', 31, 1.69, 'S', datetime.datetime(1993, 6, 23, 0, 0)), (27, 'Fabián Cabrera', 29, 1.84, 'N', datetime.datetime(1995, 5, 9, 0, 0)), (28, 'Laura Méndez', 26, 1.63, 'N', datetime.datetime(1998, 9, 30, 0, 0)), (29, 'Samuel Bravo', 42, 1.78, 'S', datetime.datetime(1982, 11, 20, 0, 0)), (30, 'Daniela Vega', 35, 1.6, 'S', datetime.datetime(1989, 2, 27, 0, 0)), (31, 'Esteban Sáenz', 33, 1.82, 'S', datetime.datetime(1991, 1, 11, 0, 0)), (32, 'Julieta Mora', 22, 1.57, 'N', datetime.datetime(2002, 6, 6, 0, 0)), (33, 'Benjamín Torres', 28, 1.76, 'N', datetime.datetime(1996, 7, 3, 0, 0)), (34, 'Ángela Suárez', 36, 1.68, 'S', datetime.datetime(1988, 8, 18, 0, 0)), (35, 'Adrián Lozano', 24, 1.7, 'N', datetime.datetime(2000, 5, 1, 0, 0)), (36, 'Noelia Medina', 30, 1.62, 'S', datetime.datetime(1994, 3, 25, 0, 0)), (37, 'Cristian Lara', 38, 1.79, 'S', datetime.datetime(1986, 4, 14, 0, 0)), (38, 'Silvia Barrios', 27, 1.61, 'N', datetime.datetime(1997, 10, 28, 0, 0)), (39, 'Matías Rojas', 23, 1.73, 'N', datetime.datetime(2001, 12, 12, 0, 0)), (40, 'Rocío Acosta', 32, 1.65, 'S', datetime.datetime(1992, 7, 8, 0, 0)), (41, 'Agustín Castillo', 40, 1.8, 'S', datetime.datetime(1984, 9, 4, 0, 0)), (42, 'Victoria Serrano', 34, 1.67, 'S', datetime.datetime(1990, 8, 2, 0, 0)), (43, 'Javier Salgado', 25, 1.75, 'N', datetime.datetime(1999, 11, 6, 0, 0)), (44, 'Paula Quintero', 28, 1.6, 'N', datetime.datetime(1996, 2, 24, 0, 0)), (45, 'Emilio Estrada', 39, 1.77, 'S', datetime.datetime(1985, 5, 19, 0, 0)), (46, 'Melina Guerra', 21, 1.59, 'N', datetime.datetime(2003, 3, 16, 0, 0)), (47, 'Leandro Vargas', 37, 1.83, 'S', datetime.datetime(1987, 6, 30, 0, 0)), (48, 'Antonia Herrera', 20, 1.62, 'N', datetime.datetime(2004, 1, 2, 0, 0)), (49, 'Sebastián Carrillo', 26, 1.74, 'N', datetime.datetime(1998, 8, 19, 0, 0)), (50, 'Carmen Reyes', 33, 1.68, 'S', datetime.datetime(1991, 9, 25, 0, 0))]\n",
      "(1, 'Juan Pérez', 30, 1.75, 'S', datetime.datetime(1994, 5, 16, 0, 0))\n",
      "(2, 'María Gómez', 28, 1.65, 'N', datetime.datetime(1996, 3, 10, 0, 0))\n",
      "(3, 'Carlos Ruiz', 35, 1.8, 'S', datetime.datetime(1989, 7, 21, 0, 0))\n",
      "(4, 'Lucía Fernández', 22, 1.6, 'N', datetime.datetime(2002, 1, 30, 0, 0))\n",
      "(5, 'Pedro Sánchez', 40, 1.78, 'S', datetime.datetime(1984, 12, 5, 0, 0))\n",
      "(6, 'Ana Torres', 27, 1.68, 'N', datetime.datetime(1997, 8, 15, 0, 0))\n",
      "(7, 'Luis Martínez', 31, 1.72, 'S', datetime.datetime(1993, 11, 9, 0, 0))\n",
      "(8, 'Isabel Díaz', 45, 1.63, 'S', datetime.datetime(1979, 6, 1, 0, 0))\n",
      "(9, 'Diego Romero', 19, 1.82, 'N', datetime.datetime(2005, 9, 14, 0, 0))\n",
      "(10, 'Claudia Navarro', 33, 1.7, 'S', datetime.datetime(1991, 2, 18, 0, 0))\n",
      "(11, 'José Herrera', 29, 1.76, 'N', datetime.datetime(1995, 4, 22, 0, 0))\n",
      "(12, 'Valeria Castro', 24, 1.61, 'N', datetime.datetime(2000, 7, 30, 0, 0))\n",
      "(13, 'Andrés Molina', 36, 1.85, 'S', datetime.datetime(1988, 3, 3, 0, 0))\n",
      "(14, 'Patricia León', 38, 1.66, 'S', datetime.datetime(1986, 12, 28, 0, 0))\n",
      "(15, 'Hugo Paredes', 26, 1.79, 'N', datetime.datetime(1998, 5, 11, 0, 0))\n",
      "(16, 'Sofía Ortega', 23, 1.58, 'N', datetime.datetime(2001, 10, 5, 0, 0))\n",
      "(17, 'Manuel Cordero', 41, 1.74, 'S', datetime.datetime(1983, 9, 17, 0, 0))\n",
      "(18, 'Gabriela Fuentes', 32, 1.67, 'S', datetime.datetime(1992, 6, 9, 0, 0))\n",
      "(19, 'Ricardo Peña', 21, 1.81, 'N', datetime.datetime(2003, 8, 22, 0, 0))\n",
      "(20, 'Marta Salas', 34, 1.62, 'S', datetime.datetime(1990, 4, 12, 0, 0))\n",
      "(21, 'Fernando Ríos', 39, 1.77, 'S', datetime.datetime(1985, 2, 2, 0, 0))\n",
      "(22, 'Camila Durán', 25, 1.64, 'N', datetime.datetime(1999, 1, 19, 0, 0))\n",
      "(23, 'Tomás Aguilar', 37, 1.83, 'S', datetime.datetime(1987, 10, 13, 0, 0))\n",
      "(24, 'Elena Ramos', 20, 1.59, 'N', datetime.datetime(2004, 12, 7, 0, 0))\n",
      "(25, 'Iván Varela', 27, 1.71, 'N', datetime.datetime(1997, 11, 26, 0, 0))\n",
      "(26, 'Natalia Jiménez', 31, 1.69, 'S', datetime.datetime(1993, 6, 23, 0, 0))\n",
      "(27, 'Fabián Cabrera', 29, 1.84, 'N', datetime.datetime(1995, 5, 9, 0, 0))\n",
      "(28, 'Laura Méndez', 26, 1.63, 'N', datetime.datetime(1998, 9, 30, 0, 0))\n",
      "(29, 'Samuel Bravo', 42, 1.78, 'S', datetime.datetime(1982, 11, 20, 0, 0))\n",
      "(30, 'Daniela Vega', 35, 1.6, 'S', datetime.datetime(1989, 2, 27, 0, 0))\n",
      "(31, 'Esteban Sáenz', 33, 1.82, 'S', datetime.datetime(1991, 1, 11, 0, 0))\n",
      "(32, 'Julieta Mora', 22, 1.57, 'N', datetime.datetime(2002, 6, 6, 0, 0))\n",
      "(33, 'Benjamín Torres', 28, 1.76, 'N', datetime.datetime(1996, 7, 3, 0, 0))\n",
      "(34, 'Ángela Suárez', 36, 1.68, 'S', datetime.datetime(1988, 8, 18, 0, 0))\n",
      "(35, 'Adrián Lozano', 24, 1.7, 'N', datetime.datetime(2000, 5, 1, 0, 0))\n",
      "(36, 'Noelia Medina', 30, 1.62, 'S', datetime.datetime(1994, 3, 25, 0, 0))\n",
      "(37, 'Cristian Lara', 38, 1.79, 'S', datetime.datetime(1986, 4, 14, 0, 0))\n",
      "(38, 'Silvia Barrios', 27, 1.61, 'N', datetime.datetime(1997, 10, 28, 0, 0))\n",
      "(39, 'Matías Rojas', 23, 1.73, 'N', datetime.datetime(2001, 12, 12, 0, 0))\n",
      "(40, 'Rocío Acosta', 32, 1.65, 'S', datetime.datetime(1992, 7, 8, 0, 0))\n",
      "(41, 'Agustín Castillo', 40, 1.8, 'S', datetime.datetime(1984, 9, 4, 0, 0))\n",
      "(42, 'Victoria Serrano', 34, 1.67, 'S', datetime.datetime(1990, 8, 2, 0, 0))\n",
      "(43, 'Javier Salgado', 25, 1.75, 'N', datetime.datetime(1999, 11, 6, 0, 0))\n",
      "(44, 'Paula Quintero', 28, 1.6, 'N', datetime.datetime(1996, 2, 24, 0, 0))\n",
      "(45, 'Emilio Estrada', 39, 1.77, 'S', datetime.datetime(1985, 5, 19, 0, 0))\n",
      "(46, 'Melina Guerra', 21, 1.59, 'N', datetime.datetime(2003, 3, 16, 0, 0))\n",
      "(47, 'Leandro Vargas', 37, 1.83, 'S', datetime.datetime(1987, 6, 30, 0, 0))\n",
      "(48, 'Antonia Herrera', 20, 1.62, 'N', datetime.datetime(2004, 1, 2, 0, 0))\n",
      "(49, 'Sebastián Carrillo', 26, 1.74, 'N', datetime.datetime(1998, 8, 19, 0, 0))\n",
      "(50, 'Carmen Reyes', 33, 1.68, 'S', datetime.datetime(1991, 9, 25, 0, 0))\n"
     ]
    },
    {
     "ename": "TypeError",
     "evalue": "tabulate() got an unexpected keyword argument 'tablemt'",
     "output_type": "error",
     "traceback": [
      "\u001b[1;31m----------------------------------------------------------------------\u001b[0m",
      "\u001b[1;31mTypeError\u001b[0m                            Traceback (most recent call last)",
      "Cell \u001b[1;32mIn[15], line 39\u001b[0m\n\u001b[0;32m     36\u001b[0m     ejemplo1()\n\u001b[0;32m     38\u001b[0m \u001b[38;5;28;01mif\u001b[39;00m \u001b[38;5;18m__name__\u001b[39m \u001b[38;5;241m==\u001b[39m \u001b[38;5;124m\"\u001b[39m\u001b[38;5;124m__main__\u001b[39m\u001b[38;5;124m\"\u001b[39m:\n\u001b[1;32m---> 39\u001b[0m     main()\n",
      "Cell \u001b[1;32mIn[15], line 36\u001b[0m, in \u001b[0;36mmain\u001b[1;34m()\u001b[0m\n\u001b[0;32m     35\u001b[0m \u001b[38;5;28;01mdef\u001b[39;00m \u001b[38;5;21mmain\u001b[39m():\n\u001b[1;32m---> 36\u001b[0m     ejemplo1()\n",
      "Cell \u001b[1;32mIn[15], line 29\u001b[0m, in \u001b[0;36mejemplo1\u001b[1;34m()\u001b[0m\n\u001b[0;32m     25\u001b[0m        \u001b[38;5;28mprint\u001b[39m(tupla)\n\u001b[0;32m     27\u001b[0m    encabezados \u001b[38;5;241m=\u001b[39m [\u001b[38;5;124m\"\u001b[39m\u001b[38;5;124mIDPERSONA\u001b[39m\u001b[38;5;124m\"\u001b[39m,\u001b[38;5;124m\"\u001b[39m\u001b[38;5;124mNOMBRE\u001b[39m\u001b[38;5;124m\"\u001b[39m,\u001b[38;5;124m\"\u001b[39m\u001b[38;5;124mEDAD\u001b[39m\u001b[38;5;124m\"\u001b[39m,\u001b[38;5;124m\"\u001b[39m\u001b[38;5;124mALTURA\u001b[39m\u001b[38;5;124m\"\u001b[39m,\u001b[38;5;124m\"\u001b[39m\u001b[38;5;124mCASADO\u001b[39m\u001b[38;5;124m\"\u001b[39m,\u001b[38;5;124m\"\u001b[39m\u001b[38;5;124mFECHA_NAC\u001b[39m\u001b[38;5;124m\"\u001b[39m]\n\u001b[1;32m---> 29\u001b[0m    \u001b[38;5;28mprint\u001b[39m(tabulate(lista_tuplas, headers\u001b[38;5;241m=\u001b[39mencabezados, tablemt\u001b[38;5;241m=\u001b[39m\u001b[38;5;124m\"\u001b[39m\u001b[38;5;124mgrid\u001b[39m\u001b[38;5;124m\"\u001b[39m))\n\u001b[0;32m     32\u001b[0m \u001b[38;5;28;01melse\u001b[39;00m:\n\u001b[0;32m     33\u001b[0m    \u001b[38;5;28mprint\u001b[39m(\u001b[38;5;124m\"\u001b[39m\u001b[38;5;124mError: Conexion\u001b[39m\u001b[38;5;124m\"\u001b[39m)\n",
      "\u001b[1;31mTypeError\u001b[0m: tabulate() got an unexpected keyword argument 'tablemt'"
     ]
    }
   ],
   "source": [
    "import oracledb\n",
    "from tabulate import tabulate\n",
    "\n",
    "def ejemplo1():\n",
    "    conexion = None\n",
    "    try:\n",
    "        conexion = oracledb.connect(\n",
    "            user = \"bd16052025\",\n",
    "            password = \"12345678\",\n",
    "            dsn = \"localhost:1521/xepdb1\"\n",
    "        )\n",
    "    except Exception as e:\n",
    "        print(\"Error: Conexion \", e)\n",
    "    \n",
    "    if conexion != None:\n",
    "       print(\"Ok: Conexion\")\n",
    "    \n",
    "       query = \"SELECT * FROM Persona\"\n",
    "       cursor = conexion.cursor()\n",
    "       cursor.execute(query)\n",
    "       lista_tuplas = cursor.fetchall()\n",
    "       print(lista_tuplas)\n",
    "        \n",
    "       for tupla in lista_tuplas:\n",
    "           print(tupla)\n",
    "            \n",
    "       encabezados = [\"IDPERSONA\",\"NOMBRE\",\"EDAD\",\"ALTURA\",\"CASADO\",\"FECHA_NAC\"]\n",
    "    \n",
    "       print(tabulate(lista_tuplas, headers=encabezados, tablemt=\"grid\"))\n",
    "    \n",
    "    \n",
    "    else:\n",
    "       print(\"Error: Conexion\") \n",
    "\n",
    "def main():\n",
    "    ejemplo1()\n",
    "\n",
    "if __name__ == \"__main__\":\n",
    "    main()"
   ]
  },
  {
   "cell_type": "code",
   "execution_count": null,
   "id": "9c86e347",
   "metadata": {},
   "outputs": [],
   "source": []
  }
 ],
 "metadata": {
  "kernelspec": {
   "display_name": "Python 3 (ipykernel)",
   "language": "python",
   "name": "python3"
  },
  "language_info": {
   "codemirror_mode": {
    "name": "ipython",
    "version": 3
   },
   "file_extension": ".py",
   "mimetype": "text/x-python",
   "name": "python",
   "nbconvert_exporter": "python",
   "pygments_lexer": "ipython3",
   "version": "3.11.5"
  }
 },
 "nbformat": 4,
 "nbformat_minor": 5
}
