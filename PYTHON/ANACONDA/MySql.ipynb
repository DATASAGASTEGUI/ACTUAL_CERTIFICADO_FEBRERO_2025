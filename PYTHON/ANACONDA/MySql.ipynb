{
 "cells": [
  {
   "cell_type": "markdown",
   "id": "4285f58c",
   "metadata": {},
   "source": [
    "<center>\n",
    "   <span style=\"color:red; font-size:30px\">\n",
    "      MYSQL\n",
    "   </span>\n",
    "</center>"
   ]
  },
  {
   "cell_type": "markdown",
   "id": "3c00adce",
   "metadata": {},
   "source": [
    "<span style=\"color:blue; font-size:15px\">\n",
    "   INSTALAR MODULO: \n",
    "   <span style=\"color:purple; font-size:15px\">\n",
    "      MYSQL.CONNECTOR\n",
    "   </span>\n",
    "</span>"
   ]
  },
  {
   "cell_type": "code",
   "execution_count": 17,
   "id": "ff6aea68",
   "metadata": {},
   "outputs": [
    {
     "name": "stdout",
     "output_type": "stream",
     "text": [
      "Requirement already satisfied: mysql-connector-python in c:\\users\\ryzen\\anaconda3\\lib\\site-packages (8.3.0)\n"
     ]
    }
   ],
   "source": [
    "!pip install mysql-connector-python"
   ]
  },
  {
   "cell_type": "markdown",
   "id": "6a33a561",
   "metadata": {},
   "source": [
    "<span style=\"color:blue; font-size:15px\">CARGAR LIBRERIAS: <span style=\"color:purple; font-size:15px\">OS-MYSQL.CONNECTOR</span></span>"
   ]
  },
  {
   "cell_type": "code",
   "execution_count": 14,
   "id": "be8a9300",
   "metadata": {},
   "outputs": [],
   "source": [
    "import os, mysql.connector"
   ]
  },
  {
   "cell_type": "markdown",
   "id": "4d0f97f3",
   "metadata": {},
   "source": [
    "<span style=\"color:blue; font-size:15px\">\n",
    "   EJEMPLO 01: \n",
    "   <span style=\"color:purple; font-size:15px\">\n",
    "      CREAR UNA CONEXION A UNA BASE DE DATOS MYSQL\n",
    "   </span>\n",
    "</span>"
   ]
  },
  {
   "cell_type": "code",
   "execution_count": 13,
   "id": "fa66c542",
   "metadata": {},
   "outputs": [
    {
     "name": "stdout",
     "output_type": "stream",
     "text": [
      "OK: CONEXION\n"
     ]
    }
   ],
   "source": [
    "def ejemplo1():\n",
    "    conexion = None\n",
    "    try:\n",
    "        conexion = mysql.connector.connect(\n",
    "        host=\"localhost\",\n",
    "        port=\"3307\",\n",
    "        user=\"root\",\n",
    "        password=\"12345678\",\n",
    "        database=\"test0001\")\n",
    "    except:\n",
    "        conexion = None\n",
    "\n",
    "    if conexion != None:\n",
    "       print('OK: CONEXION')\n",
    "    else:\n",
    "       print('ERROR: CONEXION')\n",
    "\n",
    "def main():\n",
    "    os.system(\"cls\")\n",
    "    ejemplo1()\n",
    "          \n",
    "if __name__ == \"__main__\":\n",
    "   main()"
   ]
  },
  {
   "cell_type": "markdown",
   "id": "c3019c31",
   "metadata": {},
   "source": [
    "<span style=\"color:blue; font-size:15px\">\n",
    "   EJEMPLO 02: \n",
    "   <span style=\"color:purple; font-size:15px\">\n",
    "      CREATE TABLE\n",
    "   </span>\n",
    "</span>"
   ]
  },
  {
   "cell_type": "code",
   "execution_count": null,
   "id": "467bcce5",
   "metadata": {},
   "outputs": [],
   "source": [
    "def ejemplo1():\n",
    "    conexion = None\n",
    "    try:\n",
    "        conexion = mysql.connector.connect(\n",
    "        host=\"localhost\",\n",
    "        port=\"3307\",\n",
    "        user=\"root\",\n",
    "        password=\"12345678\",\n",
    "        database=\"test0001\")\n",
    "    except:\n",
    "        conexion = None\n",
    "\n",
    "    if conexion != None:\n",
    "       print('OK: CONEXION')\n",
    "       try:\n",
    "            query = '''CREATE TABLE Comprador ( \n",
    "                          id_comprador      INT         NOT NULL AUTO_INCREMENT,\n",
    "                          nombre            VARCHAR(25) NOT NULL,\n",
    "                          apellidos         VARCHAR(50) NOT NULL,\n",
    "                          fecha_nacimiento  DATE        NOT NULL,\n",
    "                                            PRIMARY KEY (id_comprador)\n",
    "                       ) ENGINE=InnoDB DEFAULT CHARSET=utf8mb4''' # Query create table\n",
    "            cursor = conexion.cursor()                            # Crear cursor\n",
    "            cursor.execute(query)                                 # Ejecutar query. No producen resultado en el cursor\n",
    "            conexion.commit()                                     # Guardar los cambios\n",
    "            \n",
    "            print('OK: CREATE TABLE')\n",
    "       except:   \n",
    "            print('ERROR: CREATE TABLE')\n",
    "       finally:\n",
    "            cursor.close()\n",
    "            conexion.close()\n",
    "    else:\n",
    "       print('ERROR: CONEXION')\n",
    "\n",
    "\n",
    "def main():\n",
    "    os.system(\"cls\")\n",
    "    ejemplo1()\n",
    "          \n",
    "if __name__ == \"__main__\":\n",
    "   main()"
   ]
  },
  {
   "cell_type": "markdown",
   "id": "2b965459",
   "metadata": {},
   "source": [
    "<span style=\"color:blue; font-size:15px\">\n",
    "   EJEMPLO 03: \n",
    "   <span style=\"color:purple; font-size:15px\">\n",
    "      INSERT\n",
    "   </span>\n",
    "</span>"
   ]
  },
  {
   "cell_type": "code",
   "execution_count": 18,
   "id": "a2511fb8",
   "metadata": {},
   "outputs": [
    {
     "name": "stdout",
     "output_type": "stream",
     "text": [
      "OK: CONEXION\n",
      "FILAS AFECTADAS:  1\n",
      "OK: INSERT\n"
     ]
    }
   ],
   "source": [
    "def ejemplo1():\n",
    "    conexion = None\n",
    "    try:\n",
    "        conexion = mysql.connector.connect(\n",
    "        host=\"localhost\",\n",
    "        port=\"3307\",\n",
    "        user=\"root\",\n",
    "        password=\"12345678\",\n",
    "        database=\"test0001\")\n",
    "    except:\n",
    "        conexion = None\n",
    "\n",
    "    if conexion != None:\n",
    "       print('OK: CONEXION')\n",
    "       comprador_lst_lst = [\n",
    "                             ['Miguel','Lopez Lescano','2010-01-01'],\n",
    "                             ['Carlos','Roncal Alva','2009-02-15'],\n",
    "                             ['Carla','Rodriguez Cuba','2008-03-20'],\n",
    "                             ['Arturo','Rabanal Paredes','2011-04-21'],\n",
    "                             ['Silvia','Vitteri Gonzalez','2007-05-05']\n",
    "                           ]\n",
    "       try:\n",
    "            query = \"INSERT INTO Comprador (nombre,apellidos,fecha_nacimiento) VALUES (%s, %s, %s)\"  # Query insert\n",
    "            cursor = conexion.cursor()                                                               # Crear cursor\n",
    "            for comprador_lst in comprador_lst_lst:\n",
    "                valores = (comprador_lst[0],comprador_lst[1],comprador_lst[2])                           \n",
    "                cursor.execute(query,valores)                                                        # Ejecutar query. No producen resultado en el cursor\n",
    "\n",
    "            conexion.commit()                                                                        # Confirmar los cambios de los datos en la base de datos    \n",
    "            print('FILAS AFECTADAS: ', cursor.rowcount) \n",
    "            print('OK: INSERT')\n",
    "       except:   \n",
    "            print('ERROR: INSERT')\n",
    "       finally:\n",
    "            cursor.close()\n",
    "            conexion.close()\n",
    "    else:\n",
    "       print('ERROR: CONEXION')\n",
    "\n",
    "\n",
    "def main():\n",
    "    os.system(\"cls\")\n",
    "    ejemplo1()\n",
    "          \n",
    "if __name__ == \"__main__\":\n",
    "   main()"
   ]
  },
  {
   "cell_type": "markdown",
   "id": "a6c5b387",
   "metadata": {},
   "source": [
    "<span style=\"color:blue; font-size:15px\">\n",
    "   EJEMPLO 04: \n",
    "   <span style=\"color:purple; font-size:15px\">\n",
    "      SELECT\n",
    "   </span>\n",
    "</span>"
   ]
  },
  {
   "cell_type": "code",
   "execution_count": 19,
   "id": "e00dd3c1",
   "metadata": {},
   "outputs": [
    {
     "name": "stdout",
     "output_type": "stream",
     "text": [
      "OK: CONEXION\n",
      "[(1, 'Miguel', 'Lopez Lescano', None), (2, 'Carlos', 'Roncal Alva', None), (3, 'Carla', 'Rodriguez Cuba', None), (4, 'Delly', 'Rabanal Paredes', None), (6, 'Miguel', 'Lopez Lescano', datetime.date(2010, 1, 1)), (7, 'Carlos', 'Roncal Alva', datetime.date(2009, 2, 15)), (8, 'Carla', 'Rodriguez Cuba', datetime.date(2008, 3, 20)), (9, 'Arturo', 'Rabanal Paredes', datetime.date(2011, 4, 21)), (10, 'Silvia', 'Vitteri Gonzalez', datetime.date(2007, 5, 5))]\n",
      "OK: SELECT\n"
     ]
    }
   ],
   "source": [
    "def ejemplo1():\n",
    "    conexion = None\n",
    "    try:\n",
    "        conexion = mysql.connector.connect(\n",
    "        host=\"localhost\",\n",
    "        port=\"3307\",\n",
    "        user=\"root\",\n",
    "        password=\"12345678\",\n",
    "        database=\"test0001\")\n",
    "    except:\n",
    "        conexion = None\n",
    "\n",
    "    if conexion != None:\n",
    "       print('OK: CONEXION')\n",
    "       try:\n",
    "            query = 'SELECT * FROM Comprador'    # Query create table\n",
    "            cursor = conexion.cursor()           # Crear cursor\n",
    "            cursor.execute(query)                # Ejecutar query. Resultado en el cursor\n",
    "            comprador_lst = cursor.fetchall()    # Recuperar todos los resultados guardado en el cursor\n",
    "\n",
    "            print(comprador_lst)\n",
    "            print('OK: SELECT')\n",
    "       except:   \n",
    "            print('ERROR: SELECT')\n",
    "       finally:\n",
    "            cursor.close()\n",
    "            conexion.close()\n",
    "    else:\n",
    "       print('ERROR: CONEXION')\n",
    "\n",
    "\n",
    "def main():\n",
    "    os.system(\"cls\")\n",
    "    ejemplo1()\n",
    "          \n",
    "if __name__ == \"__main__\":\n",
    "   main()"
   ]
  }
 ],
 "metadata": {
  "kernelspec": {
   "display_name": "Python 3 (ipykernel)",
   "language": "python",
   "name": "python3"
  },
  "language_info": {
   "codemirror_mode": {
    "name": "ipython",
    "version": 3
   },
   "file_extension": ".py",
   "mimetype": "text/x-python",
   "name": "python",
   "nbconvert_exporter": "python",
   "pygments_lexer": "ipython3",
   "version": "3.12.7"
  }
 },
 "nbformat": 4,
 "nbformat_minor": 5
}
