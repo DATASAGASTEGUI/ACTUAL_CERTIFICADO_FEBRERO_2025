{
 "cells": [
  {
   "cell_type": "markdown",
   "id": "16871190",
   "metadata": {},
   "source": [
    "<center>\n",
    "   <span style=\"color:red; font-size:30px\">\n",
    "      SQLITE\n",
    "   </span>\n",
    "</center>"
   ]
  },
  {
   "cell_type": "markdown",
   "id": "72bd9c38",
   "metadata": {},
   "source": [
    "<span style=\"color:blue; font-size:15px\">CARGAR LIBRERIAS: <span style=\"color:purple; font-size:15px\">OS-SQLITE3</span></span>"
   ]
  },
  {
   "cell_type": "code",
   "execution_count": 1,
   "id": "74fafef7",
   "metadata": {},
   "outputs": [],
   "source": [
    "import os, sqlite3"
   ]
  },
  {
   "cell_type": "markdown",
   "id": "7fc9c313",
   "metadata": {},
   "source": [
    "<span style=\"color:blue; font-size:15px\">\n",
    "   EJEMPLO 01: \n",
    "   <span style=\"color:purple; font-size:15px\">\n",
    "      CREAR UNA CONEXION A UNA BASE DE DATOS SQLITE\n",
    "   </span>\n",
    "</span>"
   ]
  },
  {
   "cell_type": "code",
   "execution_count": 2,
   "id": "2e14d955",
   "metadata": {},
   "outputs": [
    {
     "name": "stdout",
     "output_type": "stream",
     "text": [
      "OK: CONEXION\n"
     ]
    }
   ],
   "source": [
    "def ejemplo1():\n",
    "    nra = 'instituto.sqlite'\n",
    "    conexion = None\n",
    "    try:\n",
    "        conexion = sqlite3.connect(nra)\n",
    "    except:\n",
    "        conexion = None\n",
    "\n",
    "    if conexion != None:\n",
    "       print('OK: CONEXION')\n",
    "    else:\n",
    "       print('ERROR: CONEXION')\n",
    "\n",
    "def main():\n",
    "    os.system(\"cls\")\n",
    "    ejemplo1()\n",
    "          \n",
    "if __name__ == \"__main__\":\n",
    "   main()"
   ]
  },
  {
   "cell_type": "markdown",
   "id": "6e9a8fb1",
   "metadata": {},
   "source": [
    "<span style=\"color:blue; font-size:15px\">\n",
    "   EJEMPLO 02: \n",
    "   <span style=\"color:purple; font-size:15px\">\n",
    "      CREATE TABLE\n",
    "   </span>\n",
    "</span>"
   ]
  },
  {
   "cell_type": "code",
   "execution_count": 4,
   "id": "4e9e5f82",
   "metadata": {},
   "outputs": [
    {
     "name": "stdout",
     "output_type": "stream",
     "text": [
      "OK: CONEXION\n",
      "ERROR: CREATE TABLE\n"
     ]
    }
   ],
   "source": [
    "def ejemplo1():\n",
    "    nra = 'instituto.sqlite'\n",
    "    conexion = None\n",
    "    try:\n",
    "        conexion = sqlite3.connect(nra)\n",
    "    except:\n",
    "        conexion = None\n",
    "\n",
    "    if conexion != None:\n",
    "       print('OK: CONEXION')\n",
    "       try:\n",
    "            query = '''CREATE TABLE Comprador ( \n",
    "                          id_comprador      INTEGER     NOT NULL PRIMARY KEY AUTOINCREMENT,\n",
    "                          nombre            VARCHAR(25) NOT NULL,\n",
    "                          apellidos         VARCHAR(50) NOT NULL,\n",
    "                          fecha_nacimiento  DATE        NOT NULL\n",
    "                       )''' # Query create table\n",
    "            cursor = conexion.cursor()                            # Crear cursor\n",
    "            cursor.execute(query)                                 # Ejecutar query. No producen resultado en el cursor\n",
    "            conexion.commit()                                     # Guardar los cambios\n",
    "            \n",
    "            print('OK: CREATE TABLE')\n",
    "       except:   \n",
    "            print('ERROR: CREATE TABLE')\n",
    "       finally:\n",
    "            cursor.close()\n",
    "            conexion.close()\n",
    "    else:\n",
    "       print('ERROR: CONEXION')\n",
    "\n",
    "\n",
    "def main():\n",
    "    os.system(\"cls\")\n",
    "    ejemplo1()\n",
    "          \n",
    "if __name__ == \"__main__\":\n",
    "   main()"
   ]
  },
  {
   "cell_type": "markdown",
   "id": "e16c7f97",
   "metadata": {},
   "source": [
    "<span style=\"color:blue; font-size:15px\">\n",
    "   EJEMPLO 03: \n",
    "   <span style=\"color:purple; font-size:15px\">\n",
    "      INSERT\n",
    "   </span>\n",
    "</span>"
   ]
  },
  {
   "cell_type": "code",
   "execution_count": 15,
   "id": "e09d366d",
   "metadata": {},
   "outputs": [
    {
     "name": "stdout",
     "output_type": "stream",
     "text": [
      "OK: CONEXION\n",
      "FILAS AFECTADAS:  1\n",
      "OK: INSERT\n"
     ]
    }
   ],
   "source": [
    "def ejemplo1():\n",
    "    nra = 'instituto.sqlite'\n",
    "    conexion = None\n",
    "    try:\n",
    "        conexion = sqlite3.connect(nra) # Conectar a la base de datos SQLite (creará un archivo si no existe)\n",
    "    except:\n",
    "        conexion = None\n",
    "\n",
    "    if conexion is not None:\n",
    "       print('OK: CONEXION')\n",
    "       comprador_lst_lst = [\n",
    "                             ['Miguel','Lopez Lescano','2010-01-01'],\n",
    "                             ['Carlos','Roncal Alva','2009-02-15'],\n",
    "                             ['Carla','Rodriguez Cuba','2008-03-20'],\n",
    "                             ['Arturo','Rabanal Paredes','2011-04-21'],\n",
    "                             ['Silvia','Vitteri Gonzalez','2007-05-05']\n",
    "                           ]\n",
    "       try:\n",
    "            query = \"INSERT INTO Comprador (nombre,apellidos,fecha_nacimiento) VALUES (?, ?, ?)\"  # Query insert\n",
    "            cursor = conexion.cursor()                                                               # Crear cursor\n",
    "            for comprador_lst in comprador_lst_lst:\n",
    "                valores1 = (comprador_lst[0],comprador_lst[1],comprador_lst[2])  \n",
    "                cursor.execute(query,valores1)                                                        # Ejecutar query. No producen resultado en el cursor\n",
    "            conexion.commit()                                                                        # Confirmar los cambios de los datos en la base de datos    \n",
    "            print('FILAS AFECTADAS: ', cursor.rowcount) \n",
    "            print('OK: INSERT')\n",
    "       except:   \n",
    "            print('ERROR: INSERT')\n",
    "       finally:\n",
    "            cursor.close()\n",
    "            conexion.close()\n",
    "    else:\n",
    "       print('ERROR: CONEXION')\n",
    "\n",
    "\n",
    "def main():\n",
    "    os.system(\"cls\")\n",
    "    ejemplo1()\n",
    "          \n",
    "if __name__ == \"__main__\":\n",
    "   main()"
   ]
  },
  {
   "cell_type": "markdown",
   "id": "c7ebb424",
   "metadata": {},
   "source": [
    "<span style=\"color:blue; font-size:15px\">\n",
    "   EJEMPLO 04: \n",
    "   <span style=\"color:purple; font-size:15px\">\n",
    "      SELECT\n",
    "   </span>\n",
    "</span>"
   ]
  },
  {
   "cell_type": "code",
   "execution_count": 16,
   "id": "c420dc6c",
   "metadata": {},
   "outputs": [
    {
     "name": "stdout",
     "output_type": "stream",
     "text": [
      "OK: CONEXION\n",
      "[(1, 'Miguel', 'Lopez Lescano', '2010-01-01'), (2, 'Carlos', 'Roncal Alva', '2009-02-15'), (3, 'Carla', 'Rodriguez Cuba', '2008-03-20'), (4, 'Arturo', 'Rabanal Paredes', '2011-04-21'), (5, 'Silvia', 'Vitteri Gonzalez', '2007-05-05'), (6, 'Miguel', 'Lopez Lescano', '2010-01-01'), (7, 'Carlos', 'Roncal Alva', '2009-02-15'), (8, 'Carla', 'Rodriguez Cuba', '2008-03-20'), (9, 'Arturo', 'Rabanal Paredes', '2011-04-21'), (10, 'Silvia', 'Vitteri Gonzalez', '2007-05-05'), (11, 'Miguel', 'Lopez Lescano', '2010-01-01'), (12, 'Carlos', 'Roncal Alva', '2009-02-15'), (13, 'Carla', 'Rodriguez Cuba', '2008-03-20'), (14, 'Arturo', 'Rabanal Paredes', '2011-04-21'), (15, 'Silvia', 'Vitteri Gonzalez', '2007-05-05'), (16, 'Miguel', 'Lopez Lescano', '2010-01-01'), (17, 'Carlos', 'Roncal Alva', '2009-02-15'), (18, 'Carla', 'Rodriguez Cuba', '2008-03-20'), (19, 'Arturo', 'Rabanal Paredes', '2011-04-21'), (20, 'Silvia', 'Vitteri Gonzalez', '2007-05-05')]\n",
      "OK: SELECT\n"
     ]
    }
   ],
   "source": [
    "def ejemplo1():\n",
    "    nra = 'instituto.sqlite'\n",
    "    conexion = None\n",
    "    try:\n",
    "        conexion = sqlite3.connect(nra) # Conectar a la base de datos SQLite (creará un archivo si no existe)\n",
    "    except:\n",
    "        conexion = None\n",
    "\n",
    "    if conexion is not None:\n",
    "       print('OK: CONEXION')\n",
    "       try:\n",
    "            query = 'SELECT * FROM Comprador'    # Query create table\n",
    "            cursor = conexion.cursor()           # Crear cursor\n",
    "            cursor.execute(query)                # Ejecutar query. Resultado en el cursor\n",
    "            comprador_lst = cursor.fetchall()    # Recuperar todos los resultados guardado en el cursor\n",
    "\n",
    "            print(comprador_lst)\n",
    "            print('OK: SELECT')\n",
    "       except:   \n",
    "            print('ERROR: SELECT')\n",
    "       finally:\n",
    "            cursor.close()\n",
    "            conexion.close()\n",
    "    else:\n",
    "       print('ERROR: CONEXION')\n",
    "\n",
    "\n",
    "def main():\n",
    "    os.system(\"cls\")\n",
    "    ejemplo1()\n",
    "          \n",
    "if __name__ == \"__main__\":\n",
    "   main()"
   ]
  }
 ],
 "metadata": {
  "kernelspec": {
   "display_name": "Python 3 (ipykernel)",
   "language": "python",
   "name": "python3"
  },
  "language_info": {
   "codemirror_mode": {
    "name": "ipython",
    "version": 3
   },
   "file_extension": ".py",
   "mimetype": "text/x-python",
   "name": "python",
   "nbconvert_exporter": "python",
   "pygments_lexer": "ipython3",
   "version": "3.11.5"
  }
 },
 "nbformat": 4,
 "nbformat_minor": 5
}
