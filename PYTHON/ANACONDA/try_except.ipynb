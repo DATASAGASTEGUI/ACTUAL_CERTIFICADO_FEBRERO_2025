{
 "cells": [
  {
   "cell_type": "markdown",
   "id": "0bbea495-361a-49a5-9245-113ec0f24b2c",
   "metadata": {},
   "source": [
    "<center>\n",
    "   <span style=\"color:red; font-size:30px\">\n",
    "      TRY...EXCEPT\n",
    "   </span>\n",
    "</center>"
   ]
  },
  {
   "cell_type": "markdown",
   "id": "1e256d73-0de1-42a1-b366-90cb461c5b8b",
   "metadata": {},
   "source": [
    "<span style=\"color:blue; font-size:15px\">\n",
    "   EJEMPLO 01: \n",
    "   <span style=\"color:purple; font-size:15px\">\n",
    "      DIVISION ENTRE CERO\n",
    "   </span>\n",
    "</span>"
   ]
  },
  {
   "cell_type": "code",
   "execution_count": null,
   "id": "135b56d4-f14d-4fa2-b59e-15f8ce2095cb",
   "metadata": {},
   "outputs": [],
   "source": [
    "try:\n",
    "    resultado = 10 / 0\n",
    "except ZeroDivisionError:\n",
    "    print(\"¡No se puede dividir entre cero!\")"
   ]
  },
  {
   "cell_type": "code",
   "execution_count": null,
   "id": "91ad852e-9eef-4ba2-95b5-b71716868659",
   "metadata": {},
   "outputs": [],
   "source": [
    "resultado = 10 / 0\n",
    "print('Hola Mundo') "
   ]
  },
  {
   "cell_type": "markdown",
   "id": "079e2fb4-2e45-4710-8544-1492c2502a02",
   "metadata": {},
   "source": [
    "<span style=\"color:blue; font-size:15px\">\n",
    "   EJEMPLO 02: \n",
    "   <span style=\"color:purple; font-size:15px\">\n",
    "      CONVERSION DE TIPO\n",
    "   </span>\n",
    "</span>"
   ]
  },
  {
   "cell_type": "code",
   "execution_count": null,
   "id": "56e3f533-7bc9-4baa-a80d-8655a0a46dc2",
   "metadata": {},
   "outputs": [],
   "source": [
    "try:\n",
    "    numero = int(\"abc\")\n",
    "except ValueError:\n",
    "    print(\"Error: no se puede convertir a entero.\")"
   ]
  },
  {
   "cell_type": "code",
   "execution_count": null,
   "id": "de808730-ccd6-47b9-88cb-857c852949f1",
   "metadata": {},
   "outputs": [],
   "source": [
    "numero = int(\"abc\")"
   ]
  },
  {
   "cell_type": "markdown",
   "id": "8605b762-129c-4a13-9336-469751075165",
   "metadata": {},
   "source": [
    "<span style=\"color:blue; font-size:15px\">\n",
    "   EJEMPLO 03: \n",
    "   <span style=\"color:purple; font-size:15px\">\n",
    "      ACCEDER A UN INDICE FUERA DEL RANGO\n",
    "   </span>\n",
    "</span>"
   ]
  },
  {
   "cell_type": "code",
   "execution_count": null,
   "id": "fe165b02-95cb-44e3-b7db-574279f0bd00",
   "metadata": {},
   "outputs": [],
   "source": [
    "lista = [1, 2, 3]\n",
    "try:\n",
    "    print(lista[5])\n",
    "except IndexError:\n",
    "    print(\"Error: índice fuera del rango.\")"
   ]
  },
  {
   "cell_type": "code",
   "execution_count": null,
   "id": "39e81da6-c4fd-4ca3-9112-eb38920a183c",
   "metadata": {},
   "outputs": [],
   "source": [
    "lista = [1, 2, 3]\n",
    "print(lista[5])"
   ]
  },
  {
   "cell_type": "markdown",
   "id": "adb81438-9230-4cac-9b5b-3d10ed82d4c0",
   "metadata": {},
   "source": [
    "<span style=\"color:blue; font-size:15px\">\n",
    "   EJEMPLO 04: \n",
    "   <span style=\"color:purple; font-size:15px\">\n",
    "      MANEJO GENERICO DE ERRORES\n",
    "   </span>\n",
    "</span>"
   ]
  },
  {
   "cell_type": "code",
   "execution_count": 2,
   "id": "bf770a98-cc21-4cd6-9d96-b1f790a527aa",
   "metadata": {},
   "outputs": [
    {
     "name": "stdin",
     "output_type": "stream",
     "text": [
      "Ingresa un número:  SDFASD\n"
     ]
    },
    {
     "name": "stdout",
     "output_type": "stream",
     "text": [
      "Ocurrió un error: invalid literal for int() with base 10: 'SDFASD'\n"
     ]
    }
   ],
   "source": [
    "try:\n",
    "    x = int(input(\"Ingresa un número: \"))\n",
    "    y = 10 / x\n",
    "    print(\"Resultado:\", y)\n",
    "except Exception as e:\n",
    "    print(\"Ocurrió un error:\", e)"
   ]
  },
  {
   "cell_type": "markdown",
   "id": "72a5f6ea-de99-48b5-ae34-6e5fb82b71e0",
   "metadata": {},
   "source": [
    "<span style=\"color:blue; font-size:15px\">\n",
    "   EJEMPLO 05: \n",
    "   <span style=\"color:purple; font-size:15px\">\n",
    "      VARIOS BLOQUES EXCEPT\n",
    "   </span>\n",
    "</span>"
   ]
  },
  {
   "cell_type": "code",
   "execution_count": 3,
   "id": "734c6a4b-f572-4739-886a-579e8cc0c9b3",
   "metadata": {},
   "outputs": [
    {
     "name": "stdout",
     "output_type": "stream",
     "text": [
      "Error de valor.\n"
     ]
    }
   ],
   "source": [
    "try:\n",
    "    valor = int(\"10.5\")\n",
    "except ValueError:\n",
    "    print(\"Error de valor.\")\n",
    "except TypeError:\n",
    "    print(\"Error de tipo.\")"
   ]
  },
  {
   "cell_type": "code",
   "execution_count": null,
   "id": "4d23bb0d-67aa-481b-a79e-71bbe5697962",
   "metadata": {},
   "outputs": [],
   "source": []
  }
 ],
 "metadata": {
  "kernelspec": {
   "display_name": "Python 3 (ipykernel)",
   "language": "python",
   "name": "python3"
  },
  "language_info": {
   "codemirror_mode": {
    "name": "ipython",
    "version": 3
   },
   "file_extension": ".py",
   "mimetype": "text/x-python",
   "name": "python",
   "nbconvert_exporter": "python",
   "pygments_lexer": "ipython3",
   "version": "3.12.7"
  }
 },
 "nbformat": 4,
 "nbformat_minor": 5
}
