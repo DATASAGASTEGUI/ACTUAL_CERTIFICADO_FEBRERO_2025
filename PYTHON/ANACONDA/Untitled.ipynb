{
 "cells": [
  {
   "cell_type": "code",
   "execution_count": null,
   "id": "19cd45b8-aad8-4dd9-b141-c709be72ba17",
   "metadata": {},
   "outputs": [],
   "source": []
  }
 ],
 "metadata": {
  "kernelspec": {
   "display_name": "",
   "name": ""
  },
  "language_info": {
   "name": ""
  }
 },
 "nbformat": 4,
 "nbformat_minor": 5
}
