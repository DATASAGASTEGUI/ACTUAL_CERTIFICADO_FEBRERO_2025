{
 "cells": [
  {
   "cell_type": "markdown",
   "id": "18a6a25f-4578-4099-a3b7-68b1768b09b8",
   "metadata": {},
   "source": [
    "## EJEMPLOS DE CALCULO CON PYTHON"
   ]
  },
  {
   "cell_type": "code",
   "execution_count": 1,
   "id": "53968157-b41b-4bcf-8abb-eb4b7c318df9",
   "metadata": {},
   "outputs": [
    {
     "name": "stdin",
     "output_type": "stream",
     "text": [
      "Ingresar número 1?  5\n",
      "Ingresar número 2?  6\n"
     ]
    },
    {
     "name": "stdout",
     "output_type": "stream",
     "text": [
      "Suma:  11\n"
     ]
    }
   ],
   "source": [
    "# SUMAR DOS NUMEROS\n",
    "\n",
    "#ENTRADA\n",
    "n1 = int(input('Ingresar número 1? '))\n",
    "n2 = int(input('Ingresar número 2? '))\n",
    "#PROCESO\n",
    "suma = n1 + n2\n",
    "#SALIDA\n",
    "print(\"Suma: \", suma)\n",
    "\n"
   ]
  },
  {
   "cell_type": "code",
   "execution_count": null,
   "id": "5c445a86-b1ec-4783-bd5c-68ed6b543a58",
   "metadata": {},
   "outputs": [],
   "source": []
  }
 ],
 "metadata": {
  "kernelspec": {
   "display_name": "Python 3 (ipykernel)",
   "language": "python",
   "name": "python3"
  },
  "language_info": {
   "codemirror_mode": {
    "name": "ipython",
    "version": 3
   },
   "file_extension": ".py",
   "mimetype": "text/x-python",
   "name": "python",
   "nbconvert_exporter": "python",
   "pygments_lexer": "ipython3",
   "version": "3.12.7"
  }
 },
 "nbformat": 4,
 "nbformat_minor": 5
}
