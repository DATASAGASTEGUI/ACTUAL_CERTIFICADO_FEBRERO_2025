{
 "cells": [
  {
   "cell_type": "markdown",
   "id": "ec347741",
   "metadata": {},
   "source": [
    "<center>\n",
    "   <span style=\"color:red; font-size:30px\">\n",
    "      SERIES PANDAS\n",
    "   </span>\n",
    "</center>"
   ]
  },
  {
   "cell_type": "markdown",
   "id": "7fb5df5b",
   "metadata": {},
   "source": [
    "<span style=\"color:blue; font-size:15px\">\n",
    "   EJEMPLO 01: \n",
    "   <span style=\"color:purple; font-size:15px\">\n",
    "      FORMAS DE CREAR UNA SERIE PANDAS\n",
    "   </span>\n",
    "</span>"
   ]
  },
  {
   "cell_type": "code",
   "execution_count": 38,
   "id": "04dc7a9a",
   "metadata": {},
   "outputs": [
    {
     "name": "stdout",
     "output_type": "stream",
     "text": [
      "(1) A PARTIR DE UNA LISTA\n",
      "-------------------------\n",
      "0    10\n",
      "1    20\n",
      "2    30\n",
      "3    40\n",
      "4    50\n",
      "dtype: int64\n",
      "(2) A PARTIR DE UN DICCIONARIO\n",
      "------------------------------\n",
      "a    100\n",
      "b    200\n",
      "c    300\n",
      "dtype: int64\n",
      "a    100\n",
      "b    200\n",
      "dtype: int64\n",
      "100\n",
      "(3) ESPECIFICANDO INDICES Y DATOS POR SEPARADO\n",
      "----------------------------------------------\n",
      "a    10\n",
      "b    20\n",
      "c    30\n",
      "d    40\n",
      "e    50\n",
      "dtype: int64\n",
      "50\n",
      "a    10\n",
      "e    50\n",
      "dtype: int64\n",
      "(4) A PARTIR DE UN ESCALAR (REPETIDO VARIAS VECES)\n",
      "--------------------------------------------------\n",
      "a    5\n",
      "b    5\n",
      "c    5\n",
      "d    5\n",
      "e    5\n",
      "dtype: int64\n",
      "0    5\n",
      "1    5\n",
      "2    5\n",
      "3    5\n",
      "4    5\n",
      "dtype: int64\n",
      "(5) A PARTIR DE FECHAS\n",
      "----------------------\n",
      "2022-01-01    10\n",
      "2022-01-02    20\n",
      "2022-01-03    30\n",
      "2022-01-04    40\n",
      "2022-01-05    50\n",
      "Freq: D, dtype: int64\n"
     ]
    }
   ],
   "source": [
    "import pandas as pd\n",
    "\n",
    "print('(1) A PARTIR DE UNA LISTA')\n",
    "print('-------------------------')\n",
    "lista = [10, 20, 30, 40, 50]\n",
    "serie = pd.Series(lista)\n",
    "print(serie)\n",
    "\n",
    "print('(2) A PARTIR DE UN DICCIONARIO')\n",
    "print('------------------------------')\n",
    "diccionario = {'a': 100, 'b': 200, 'c': 300}\n",
    "serie = pd.Series(diccionario)\n",
    "print(serie)\n",
    "print(serie[['a','b']])\n",
    "print(serie['a'])\n",
    "\n",
    "print('(3) ESPECIFICANDO INDICES Y DATOS POR SEPARADO')\n",
    "print('----------------------------------------------')\n",
    "lista = [10, 20, 30, 40, 50]\n",
    "indices = ['a', 'b', 'c', 'd', 'e']\n",
    "serie = pd.Series(lista, index=indices)\n",
    "print(serie)\n",
    "print(serie['e'])\n",
    "print(serie[['a','e']])\n",
    "\n",
    "print('(4) A PARTIR DE UN ESCALAR (REPETIDO VARIAS VECES)')\n",
    "print('--------------------------------------------------')\n",
    "valor = 5\n",
    "serie = pd.Series(valor, index=['a', 'b', 'c', 'd', 'e'])\n",
    "print(serie)\n",
    "serie = pd.Series(valor, index=[x for x in range(5)])\n",
    "print(serie)\n",
    "\n",
    "print('(5) A PARTIR DE FECHAS')\n",
    "print('----------------------')\n",
    "fechas = pd.date_range('2022-01-01', periods=5)\n",
    "lista = [10, 20, 30, 40, 50]\n",
    "serie = pd.Series(lista, index=fechas)\n",
    "print(serie)\n"
   ]
  },
  {
   "cell_type": "markdown",
   "id": "70f15d5a",
   "metadata": {},
   "source": [
    "<span style=\"color:blue; font-size:15px\">\n",
    "   EJEMPLO 02: \n",
    "   <span style=\"color:purple; font-size:15px\">\n",
    "      FUNCIONES DE UNA SERIE\n",
    "   </span>\n",
    "</span>"
   ]
  },
  {
   "cell_type": "code",
   "execution_count": 29,
   "id": "c97d335f",
   "metadata": {},
   "outputs": [
    {
     "name": "stdout",
     "output_type": "stream",
     "text": [
      "0    1\n",
      "1    3\n",
      "2    1\n",
      "3    3\n",
      "4    1\n",
      "5    1\n",
      "6    2\n",
      "7    6\n",
      "8    2\n",
      "9    2\n",
      "dtype: int64\n",
      "(1) STD: DESVIACION STANDARD\n",
      "----------------------------\n",
      "1.5491933384829668\n",
      "(2) DESCRIBE: VARIAS MEDICIONES\n",
      "-------------------------------\n",
      "count    10.000000\n",
      "mean      2.200000\n",
      "std       1.549193\n",
      "min       1.000000\n",
      "25%       1.000000\n",
      "50%       2.000000\n",
      "75%       2.750000\n",
      "max       6.000000\n",
      "dtype: float64\n",
      "(2) SUM: SUMA\n",
      "-------------\n",
      "22\n"
     ]
    }
   ],
   "source": [
    "import pandas as pd\n",
    "import random\n",
    "\n",
    "lista = [random.randint(1,6)  for x in range(10)]\n",
    "serie = pd.Series(lista)\n",
    "print(serie)\n",
    "\n",
    "print('(1) STD: DESVIACION STANDARD')\n",
    "print('----------------------------')\n",
    "print(serie.std())\n",
    "\n",
    "print('(2) DESCRIBE: VARIAS MEDICIONES')\n",
    "print('-------------------------------')\n",
    "print(serie.describe())\n",
    "\n",
    "print('(3) SUM: SUMA')\n",
    "print('-------------')\n",
    "print(serie.sum())\n",
    "\n",
    "print('(4) MAX: MAXIMO')\n",
    "print('---------------')\n",
    "print(serie.max())\n",
    "\n",
    "print('(5) MIN: MINIMO')\n",
    "print('---------------')\n",
    "print(serie.min())\n",
    "\n",
    "\n"
   ]
  },
  {
   "cell_type": "markdown",
   "id": "7222eba5",
   "metadata": {},
   "source": [
    "<span style=\"color:blue; font-size:15px\">\n",
    "   EJEMPLO 03: \n",
    "   <span style=\"color:purple; font-size:15px\">\n",
    "      FILTROS Y OTRAS FUNCIONES DE UNA SERIE PANDAS\n",
    "   </span>\n",
    "</span>"
   ]
  },
  {
   "cell_type": "code",
   "execution_count": 37,
   "id": "9322c6e9",
   "metadata": {},
   "outputs": [
    {
     "name": "stdout",
     "output_type": "stream",
     "text": [
      "Matematicas      8\n",
      "Economia         6\n",
      "Programacion    10\n",
      "Fisica           5\n",
      "dtype: int64\n",
      "Matematicas      8\n",
      "Programacion    10\n",
      "dtype: int64\n",
      "Fisica           5\n",
      "Economia         6\n",
      "Matematicas      8\n",
      "Programacion    10\n",
      "dtype: int64\n",
      "Economia         6\n",
      "Fisica           5\n",
      "Matematicas      8\n",
      "Programacion    10\n",
      "dtype: int64\n",
      "Programacion    10\n",
      "Matematicas      8\n",
      "Fisica           5\n",
      "Economia         6\n",
      "dtype: int64\n"
     ]
    }
   ],
   "source": [
    "import pandas as pd\n",
    "\n",
    "diccionario = {'Matematicas':8, 'Economia': 6, 'Programacion': 10, 'Fisica': 5}\n",
    "serie = pd.Series(diccionario)\n",
    "print(serie)\n",
    "print(serie[serie > 6]) # Valores de la serie que sean mayores a 6\n",
    "print(serie.sort_values()) # Ordenar por los valores de la serie\n",
    "print(serie.sort_index()) # Ordenar por el indice de la serie ascendente\n",
    "print(serie.sort_index(ascending=False)) # Ordenar por el indice de la serie descendente"
   ]
  },
  {
   "cell_type": "markdown",
   "id": "0e00ba87",
   "metadata": {},
   "source": [
    "<span style=\"color:blue; font-size:15px\">\n",
    "      BIBLIOGRAFIA\n",
    "</span>"
   ]
  },
  {
   "cell_type": "markdown",
   "id": "5d8e9c6c",
   "metadata": {},
   "source": [
    "https://www.youtube.com/watch?v=YGtkqDvDFps&list=PLg9145ptuAig5cwvUCn9FNSUJyXBiFcVg&index=6"
   ]
  }
 ],
 "metadata": {
  "kernelspec": {
   "display_name": "Python 3 (ipykernel)",
   "language": "python",
   "name": "python3"
  },
  "language_info": {
   "codemirror_mode": {
    "name": "ipython",
    "version": 3
   },
   "file_extension": ".py",
   "mimetype": "text/x-python",
   "name": "python",
   "nbconvert_exporter": "python",
   "pygments_lexer": "ipython3",
   "version": "3.11.5"
  }
 },
 "nbformat": 4,
 "nbformat_minor": 5
}
